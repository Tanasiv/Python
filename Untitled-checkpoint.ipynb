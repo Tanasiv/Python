{
 "cells": [
  {
   "cell_type": "markdown",
   "id": "f5e0851b-6b70-41da-acae-44aa77b838b7",
   "metadata": {},
   "source": [
    "1. How many respondents completed the survey?\n",
    "2. How many respondents answered all the questions?\n",
    "3. What are the measures of central tendency for the respondents' work experience (WorkExp)?\n",
    "4. How many respondents work remotely?\n",
    "5. What percentage of respondents code in Python?\n",
    "6. How many respondents learned to code through online courses?\n",
    "7. Among respondents who code in Python, grouped by country, what are the average and median compensation amounts (ConvertedCompYearly) in each country?\n",
    "8. What education levels do the 5 respondents with the highest compensation have?\n",
    "\n",
    "Bonus questions:\n",
    "1. In each age category, what percentage of respondents code in Python?\n",
    "2. Among respondents in the 75th percentile of average compensation who work remotely, what are the most common industries?"
   ]
  },
  {
   "cell_type": "code",
   "execution_count": 9,
   "id": "27c5267a-f8a3-4bc2-8ed6-85784004cfe2",
   "metadata": {},
   "outputs": [],
   "source": [
    "import pandas as pd"
   ]
  },
  {
   "cell_type": "code",
   "execution_count": 11,
   "id": "610a155b-da0c-47e8-b9e3-810b44efb784",
   "metadata": {},
   "outputs": [],
   "source": [
    "df_sof24 = pd.read_csv(r'C:\\Users\\admin\\Documents\\Домашка пайтон\\survey_results_public.csv')\n",
    "df_schema24 = pd.read_csv(r'C:\\Users\\admin\\Documents\\Домашка пайтон\\survey_results_schema.csv')"
   ]
  },
  {
   "cell_type": "code",
   "execution_count": 6,
   "id": "27236376-2c38-4861-9157-1d7863eb91a4",
   "metadata": {},
   "outputs": [
    {
     "data": {
      "text/html": [
       "<div>\n",
       "<style scoped>\n",
       "    .dataframe tbody tr th:only-of-type {\n",
       "        vertical-align: middle;\n",
       "    }\n",
       "\n",
       "    .dataframe tbody tr th {\n",
       "        vertical-align: top;\n",
       "    }\n",
       "\n",
       "    .dataframe thead th {\n",
       "        text-align: right;\n",
       "    }\n",
       "</style>\n",
       "<table border=\"1\" class=\"dataframe\">\n",
       "  <thead>\n",
       "    <tr style=\"text-align: right;\">\n",
       "      <th></th>\n",
       "      <th>ResponseId</th>\n",
       "      <th>MainBranch</th>\n",
       "      <th>Age</th>\n",
       "      <th>Employment</th>\n",
       "      <th>RemoteWork</th>\n",
       "      <th>Check</th>\n",
       "      <th>CodingActivities</th>\n",
       "      <th>EdLevel</th>\n",
       "      <th>LearnCode</th>\n",
       "      <th>LearnCodeOnline</th>\n",
       "      <th>...</th>\n",
       "      <th>JobSatPoints_6</th>\n",
       "      <th>JobSatPoints_7</th>\n",
       "      <th>JobSatPoints_8</th>\n",
       "      <th>JobSatPoints_9</th>\n",
       "      <th>JobSatPoints_10</th>\n",
       "      <th>JobSatPoints_11</th>\n",
       "      <th>SurveyLength</th>\n",
       "      <th>SurveyEase</th>\n",
       "      <th>ConvertedCompYearly</th>\n",
       "      <th>JobSat</th>\n",
       "    </tr>\n",
       "  </thead>\n",
       "  <tbody>\n",
       "    <tr>\n",
       "      <th>5332</th>\n",
       "      <td>5333</td>\n",
       "      <td>I am a developer by profession</td>\n",
       "      <td>25-34 years old</td>\n",
       "      <td>Employed, full-time</td>\n",
       "      <td>Remote</td>\n",
       "      <td>Apples</td>\n",
       "      <td>Bootstrapping a business;Freelance/contract work</td>\n",
       "      <td>Bachelor’s degree (B.A., B.S., B.Eng., etc.)</td>\n",
       "      <td>Colleague;On the job training;Other online res...</td>\n",
       "      <td>Technical documentation;Blogs;Written Tutorial...</td>\n",
       "      <td>...</td>\n",
       "      <td>20.0</td>\n",
       "      <td>80.0</td>\n",
       "      <td>0.0</td>\n",
       "      <td>0.0</td>\n",
       "      <td>0.0</td>\n",
       "      <td>0.0</td>\n",
       "      <td>Too long</td>\n",
       "      <td>Difficult</td>\n",
       "      <td>27973.0</td>\n",
       "      <td>8.0</td>\n",
       "    </tr>\n",
       "    <tr>\n",
       "      <th>5991</th>\n",
       "      <td>5992</td>\n",
       "      <td>I am a developer by profession</td>\n",
       "      <td>35-44 years old</td>\n",
       "      <td>Employed, full-time</td>\n",
       "      <td>In-person</td>\n",
       "      <td>Apples</td>\n",
       "      <td>Hobby;Professional development or self-paced l...</td>\n",
       "      <td>Some college/university study without earning ...</td>\n",
       "      <td>Books / Physical media;On the job training;Oth...</td>\n",
       "      <td>Technical documentation;Blogs;Books;Written Tu...</td>\n",
       "      <td>...</td>\n",
       "      <td>0.0</td>\n",
       "      <td>0.0</td>\n",
       "      <td>0.0</td>\n",
       "      <td>0.0</td>\n",
       "      <td>0.0</td>\n",
       "      <td>0.0</td>\n",
       "      <td>Too long</td>\n",
       "      <td>Neither easy nor difficult</td>\n",
       "      <td>NaN</td>\n",
       "      <td>7.0</td>\n",
       "    </tr>\n",
       "    <tr>\n",
       "      <th>54029</th>\n",
       "      <td>54030</td>\n",
       "      <td>I am a developer by profession</td>\n",
       "      <td>25-34 years old</td>\n",
       "      <td>Employed, full-time</td>\n",
       "      <td>In-person</td>\n",
       "      <td>Apples</td>\n",
       "      <td>Professional development or self-paced learnin...</td>\n",
       "      <td>NaN</td>\n",
       "      <td>NaN</td>\n",
       "      <td>NaN</td>\n",
       "      <td>...</td>\n",
       "      <td>NaN</td>\n",
       "      <td>NaN</td>\n",
       "      <td>NaN</td>\n",
       "      <td>NaN</td>\n",
       "      <td>NaN</td>\n",
       "      <td>NaN</td>\n",
       "      <td>NaN</td>\n",
       "      <td>NaN</td>\n",
       "      <td>NaN</td>\n",
       "      <td>NaN</td>\n",
       "    </tr>\n",
       "    <tr>\n",
       "      <th>42410</th>\n",
       "      <td>42411</td>\n",
       "      <td>I am a developer by profession</td>\n",
       "      <td>18-24 years old</td>\n",
       "      <td>Student, full-time</td>\n",
       "      <td>NaN</td>\n",
       "      <td>Apples</td>\n",
       "      <td>NaN</td>\n",
       "      <td>Bachelor’s degree (B.A., B.S., B.Eng., etc.)</td>\n",
       "      <td>Colleague;Other online resources (e.g., videos...</td>\n",
       "      <td>Technical documentation;Blogs;Books;Stack Over...</td>\n",
       "      <td>...</td>\n",
       "      <td>NaN</td>\n",
       "      <td>NaN</td>\n",
       "      <td>NaN</td>\n",
       "      <td>NaN</td>\n",
       "      <td>NaN</td>\n",
       "      <td>NaN</td>\n",
       "      <td>Appropriate in length</td>\n",
       "      <td>Neither easy nor difficult</td>\n",
       "      <td>NaN</td>\n",
       "      <td>NaN</td>\n",
       "    </tr>\n",
       "    <tr>\n",
       "      <th>34189</th>\n",
       "      <td>34190</td>\n",
       "      <td>I am a developer by profession</td>\n",
       "      <td>18-24 years old</td>\n",
       "      <td>Not employed, but looking for work</td>\n",
       "      <td>NaN</td>\n",
       "      <td>Apples</td>\n",
       "      <td>NaN</td>\n",
       "      <td>Master’s degree (M.A., M.S., M.Eng., MBA, etc.)</td>\n",
       "      <td>Books / Physical media;Other online resources ...</td>\n",
       "      <td>Technical documentation;Blogs;Books;Written Tu...</td>\n",
       "      <td>...</td>\n",
       "      <td>NaN</td>\n",
       "      <td>NaN</td>\n",
       "      <td>NaN</td>\n",
       "      <td>NaN</td>\n",
       "      <td>NaN</td>\n",
       "      <td>NaN</td>\n",
       "      <td>Appropriate in length</td>\n",
       "      <td>Easy</td>\n",
       "      <td>NaN</td>\n",
       "      <td>NaN</td>\n",
       "    </tr>\n",
       "  </tbody>\n",
       "</table>\n",
       "<p>5 rows × 114 columns</p>\n",
       "</div>"
      ],
      "text/plain": [
       "       ResponseId                      MainBranch              Age  \\\n",
       "5332         5333  I am a developer by profession  25-34 years old   \n",
       "5991         5992  I am a developer by profession  35-44 years old   \n",
       "54029       54030  I am a developer by profession  25-34 years old   \n",
       "42410       42411  I am a developer by profession  18-24 years old   \n",
       "34189       34190  I am a developer by profession  18-24 years old   \n",
       "\n",
       "                               Employment RemoteWork   Check  \\\n",
       "5332                  Employed, full-time     Remote  Apples   \n",
       "5991                  Employed, full-time  In-person  Apples   \n",
       "54029                 Employed, full-time  In-person  Apples   \n",
       "42410                  Student, full-time        NaN  Apples   \n",
       "34189  Not employed, but looking for work        NaN  Apples   \n",
       "\n",
       "                                        CodingActivities  \\\n",
       "5332    Bootstrapping a business;Freelance/contract work   \n",
       "5991   Hobby;Professional development or self-paced l...   \n",
       "54029  Professional development or self-paced learnin...   \n",
       "42410                                                NaN   \n",
       "34189                                                NaN   \n",
       "\n",
       "                                                 EdLevel  \\\n",
       "5332        Bachelor’s degree (B.A., B.S., B.Eng., etc.)   \n",
       "5991   Some college/university study without earning ...   \n",
       "54029                                                NaN   \n",
       "42410       Bachelor’s degree (B.A., B.S., B.Eng., etc.)   \n",
       "34189    Master’s degree (M.A., M.S., M.Eng., MBA, etc.)   \n",
       "\n",
       "                                               LearnCode  \\\n",
       "5332   Colleague;On the job training;Other online res...   \n",
       "5991   Books / Physical media;On the job training;Oth...   \n",
       "54029                                                NaN   \n",
       "42410  Colleague;Other online resources (e.g., videos...   \n",
       "34189  Books / Physical media;Other online resources ...   \n",
       "\n",
       "                                         LearnCodeOnline  ... JobSatPoints_6  \\\n",
       "5332   Technical documentation;Blogs;Written Tutorial...  ...           20.0   \n",
       "5991   Technical documentation;Blogs;Books;Written Tu...  ...            0.0   \n",
       "54029                                                NaN  ...            NaN   \n",
       "42410  Technical documentation;Blogs;Books;Stack Over...  ...            NaN   \n",
       "34189  Technical documentation;Blogs;Books;Written Tu...  ...            NaN   \n",
       "\n",
       "      JobSatPoints_7 JobSatPoints_8 JobSatPoints_9 JobSatPoints_10  \\\n",
       "5332            80.0            0.0            0.0             0.0   \n",
       "5991             0.0            0.0            0.0             0.0   \n",
       "54029            NaN            NaN            NaN             NaN   \n",
       "42410            NaN            NaN            NaN             NaN   \n",
       "34189            NaN            NaN            NaN             NaN   \n",
       "\n",
       "      JobSatPoints_11           SurveyLength                  SurveyEase  \\\n",
       "5332              0.0               Too long                   Difficult   \n",
       "5991              0.0               Too long  Neither easy nor difficult   \n",
       "54029             NaN                    NaN                         NaN   \n",
       "42410             NaN  Appropriate in length  Neither easy nor difficult   \n",
       "34189             NaN  Appropriate in length                        Easy   \n",
       "\n",
       "      ConvertedCompYearly JobSat  \n",
       "5332              27973.0    8.0  \n",
       "5991                  NaN    7.0  \n",
       "54029                 NaN    NaN  \n",
       "42410                 NaN    NaN  \n",
       "34189                 NaN    NaN  \n",
       "\n",
       "[5 rows x 114 columns]"
      ]
     },
     "execution_count": 6,
     "metadata": {},
     "output_type": "execute_result"
    }
   ],
   "source": [
    "df_sof24.sample(5) "
   ]
  },
  {
   "cell_type": "code",
   "execution_count": 7,
   "id": "2c7816af-d32f-4b81-8ec0-10d879da0072",
   "metadata": {},
   "outputs": [
    {
     "data": {
      "text/html": [
       "<div>\n",
       "<style scoped>\n",
       "    .dataframe tbody tr th:only-of-type {\n",
       "        vertical-align: middle;\n",
       "    }\n",
       "\n",
       "    .dataframe tbody tr th {\n",
       "        vertical-align: top;\n",
       "    }\n",
       "\n",
       "    .dataframe thead th {\n",
       "        text-align: right;\n",
       "    }\n",
       "</style>\n",
       "<table border=\"1\" class=\"dataframe\">\n",
       "  <thead>\n",
       "    <tr style=\"text-align: right;\">\n",
       "      <th></th>\n",
       "      <th>qid</th>\n",
       "      <th>qname</th>\n",
       "      <th>question</th>\n",
       "      <th>force_resp</th>\n",
       "      <th>type</th>\n",
       "      <th>selector</th>\n",
       "    </tr>\n",
       "  </thead>\n",
       "  <tbody>\n",
       "    <tr>\n",
       "      <th>4</th>\n",
       "      <td>QID341</td>\n",
       "      <td>Check</td>\n",
       "      <td>Just checking to make sure you are paying atte...</td>\n",
       "      <td>True</td>\n",
       "      <td>MC</td>\n",
       "      <td>SAVR</td>\n",
       "    </tr>\n",
       "    <tr>\n",
       "      <th>82</th>\n",
       "      <td>QID337</td>\n",
       "      <td>JobSatPoints_7</td>\n",
       "      <td>Learning and using new technology, including p...</td>\n",
       "      <td>NaN</td>\n",
       "      <td>MC</td>\n",
       "      <td>MAVR</td>\n",
       "    </tr>\n",
       "    <tr>\n",
       "      <th>35</th>\n",
       "      <td>QID101</td>\n",
       "      <td>SOAccount</td>\n",
       "      <td>Do you have a Stack Overflow account?</td>\n",
       "      <td>False</td>\n",
       "      <td>MC</td>\n",
       "      <td>SAVR</td>\n",
       "    </tr>\n",
       "    <tr>\n",
       "      <th>15</th>\n",
       "      <td>QID279</td>\n",
       "      <td>BuyNewTool</td>\n",
       "      <td>When buying a new tool or software, how do you...</td>\n",
       "      <td>False</td>\n",
       "      <td>MC</td>\n",
       "      <td>MAVR</td>\n",
       "    </tr>\n",
       "    <tr>\n",
       "      <th>47</th>\n",
       "      <td>QID339</td>\n",
       "      <td>AIEthics</td>\n",
       "      <td>Which AI ethical responsibilities are most imp...</td>\n",
       "      <td>False</td>\n",
       "      <td>MC</td>\n",
       "      <td>MAVR</td>\n",
       "    </tr>\n",
       "  </tbody>\n",
       "</table>\n",
       "</div>"
      ],
      "text/plain": [
       "       qid           qname                                           question  \\\n",
       "4   QID341           Check  Just checking to make sure you are paying atte...   \n",
       "82  QID337  JobSatPoints_7  Learning and using new technology, including p...   \n",
       "35  QID101       SOAccount              Do you have a Stack Overflow account?   \n",
       "15  QID279      BuyNewTool  When buying a new tool or software, how do you...   \n",
       "47  QID339        AIEthics  Which AI ethical responsibilities are most imp...   \n",
       "\n",
       "   force_resp type selector  \n",
       "4        True   MC     SAVR  \n",
       "82        NaN   MC     MAVR  \n",
       "35      False   MC     SAVR  \n",
       "15      False   MC     MAVR  \n",
       "47      False   MC     MAVR  "
      ]
     },
     "execution_count": 7,
     "metadata": {},
     "output_type": "execute_result"
    }
   ],
   "source": [
    "df_schema24.sample(5) "
   ]
  },
  {
   "cell_type": "code",
   "execution_count": 12,
   "id": "b59cd41d-100b-4590-a294-6ffe0ed86e04",
   "metadata": {},
   "outputs": [
    {
     "data": {
      "text/plain": [
       "(65437, 114)"
      ]
     },
     "execution_count": 12,
     "metadata": {},
     "output_type": "execute_result"
    }
   ],
   "source": [
    "df_sof24.shape"
   ]
  },
  {
   "cell_type": "code",
   "execution_count": 13,
   "id": "d67bafc2-345b-456d-9ab1-d2c8343369de",
   "metadata": {},
   "outputs": [
    {
     "data": {
      "text/plain": [
       "(87, 6)"
      ]
     },
     "execution_count": 13,
     "metadata": {},
     "output_type": "execute_result"
    }
   ],
   "source": [
    "df_schema24.shape"
   ]
  },
  {
   "cell_type": "code",
   "execution_count": 74,
   "id": "82cb58c1-addd-4439-84e3-c86bf01089ce",
   "metadata": {},
   "outputs": [
    {
     "data": {
      "text/plain": [
       "<bound method DataFrame.info of        ResponseId                      MainBranch                 Age  \\\n",
       "0               1  I am a developer by profession  Under 18 years old   \n",
       "1               2  I am a developer by profession     35-44 years old   \n",
       "2               3  I am a developer by profession     45-54 years old   \n",
       "3               4           I am learning to code     18-24 years old   \n",
       "4               5  I am a developer by profession     18-24 years old   \n",
       "...           ...                             ...                 ...   \n",
       "65432       65433  I am a developer by profession     18-24 years old   \n",
       "65433       65434  I am a developer by profession     25-34 years old   \n",
       "65434       65435  I am a developer by profession     25-34 years old   \n",
       "65435       65436  I am a developer by profession     18-24 years old   \n",
       "65436       65437     I code primarily as a hobby     18-24 years old   \n",
       "\n",
       "                Employment                            RemoteWork   Check  \\\n",
       "0      Employed, full-time                                Remote  Apples   \n",
       "1      Employed, full-time                                Remote  Apples   \n",
       "2      Employed, full-time                                Remote  Apples   \n",
       "3       Student, full-time                                   NaN  Apples   \n",
       "4       Student, full-time                                   NaN  Apples   \n",
       "...                    ...                                   ...     ...   \n",
       "65432  Employed, full-time                                Remote  Apples   \n",
       "65433  Employed, full-time                                Remote  Apples   \n",
       "65434  Employed, full-time                             In-person  Apples   \n",
       "65435  Employed, full-time  Hybrid (some remote, some in-person)  Apples   \n",
       "65436   Student, full-time                                   NaN  Apples   \n",
       "\n",
       "                                        CodingActivities  \\\n",
       "0                                                  Hobby   \n",
       "1      Hobby;Contribute to open-source projects;Other...   \n",
       "2      Hobby;Contribute to open-source projects;Other...   \n",
       "3                                                    NaN   \n",
       "4                                                    NaN   \n",
       "...                                                  ...   \n",
       "65432                      Hobby;School or academic work   \n",
       "65433           Hobby;Contribute to open-source projects   \n",
       "65434                                              Hobby   \n",
       "65435  Hobby;Contribute to open-source projects;Profe...   \n",
       "65436                                                NaN   \n",
       "\n",
       "                                                 EdLevel  \\\n",
       "0                              Primary/elementary school   \n",
       "1           Bachelor’s degree (B.A., B.S., B.Eng., etc.)   \n",
       "2        Master’s degree (M.A., M.S., M.Eng., MBA, etc.)   \n",
       "3      Some college/university study without earning ...   \n",
       "4      Secondary school (e.g. American high school, G...   \n",
       "...                                                  ...   \n",
       "65432       Bachelor’s degree (B.A., B.S., B.Eng., etc.)   \n",
       "65433                                                NaN   \n",
       "65434       Bachelor’s degree (B.A., B.S., B.Eng., etc.)   \n",
       "65435  Secondary school (e.g. American high school, G...   \n",
       "65436                                                NaN   \n",
       "\n",
       "                                               LearnCode  \\\n",
       "0                                 Books / Physical media   \n",
       "1      Books / Physical media;Colleague;On the job tr...   \n",
       "2      Books / Physical media;Colleague;On the job tr...   \n",
       "3      Other online resources (e.g., videos, blogs, f...   \n",
       "4      Other online resources (e.g., videos, blogs, f...   \n",
       "...                                                  ...   \n",
       "65432  On the job training;School (i.e., University, ...   \n",
       "65433                                                NaN   \n",
       "65434  Other online resources (e.g., videos, blogs, f...   \n",
       "65435  On the job training;Other online resources (e....   \n",
       "65436                                                NaN   \n",
       "\n",
       "                                         LearnCodeOnline  ... JobSatPoints_6  \\\n",
       "0                                                    NaN  ...            NaN   \n",
       "1      Technical documentation;Blogs;Books;Written Tu...  ...            0.0   \n",
       "2      Technical documentation;Blogs;Books;Written Tu...  ...            NaN   \n",
       "3      Stack Overflow;How-to videos;Interactive tutorial  ...            NaN   \n",
       "4      Technical documentation;Blogs;Written Tutorial...  ...            NaN   \n",
       "...                                                  ...  ...            ...   \n",
       "65432                                                NaN  ...            NaN   \n",
       "65433                                                NaN  ...            NaN   \n",
       "65434  Technical documentation;Stack Overflow;Social ...  ...            NaN   \n",
       "65435  Technical documentation;Blogs;Written Tutorial...  ...            0.0   \n",
       "65436                                                NaN  ...            NaN   \n",
       "\n",
       "      JobSatPoints_7 JobSatPoints_8 JobSatPoints_9 JobSatPoints_10  \\\n",
       "0                NaN            NaN            NaN             NaN   \n",
       "1                0.0            0.0            0.0             0.0   \n",
       "2                NaN            NaN            NaN             NaN   \n",
       "3                NaN            NaN            NaN             NaN   \n",
       "4                NaN            NaN            NaN             NaN   \n",
       "...              ...            ...            ...             ...   \n",
       "65432            NaN            NaN            NaN             NaN   \n",
       "65433            NaN            NaN            NaN             NaN   \n",
       "65434            NaN            NaN            NaN             NaN   \n",
       "65435            0.0            0.0            0.0             0.0   \n",
       "65436            NaN            NaN            NaN             NaN   \n",
       "\n",
       "      JobSatPoints_11           SurveyLength SurveyEase ConvertedCompYearly  \\\n",
       "0                 NaN                    NaN        NaN                 NaN   \n",
       "1                 0.0                    NaN        NaN                 NaN   \n",
       "2                 NaN  Appropriate in length       Easy                 NaN   \n",
       "3                 NaN               Too long       Easy                 NaN   \n",
       "4                 NaN              Too short       Easy                 NaN   \n",
       "...               ...                    ...        ...                 ...   \n",
       "65432             NaN                    NaN        NaN                 NaN   \n",
       "65433             NaN                    NaN        NaN                 NaN   \n",
       "65434             NaN                    NaN        NaN                 NaN   \n",
       "65435             0.0                    NaN        NaN                 NaN   \n",
       "65436             NaN                    NaN        NaN                 NaN   \n",
       "\n",
       "      JobSat  \n",
       "0        NaN  \n",
       "1        NaN  \n",
       "2        NaN  \n",
       "3        NaN  \n",
       "4        NaN  \n",
       "...      ...  \n",
       "65432    NaN  \n",
       "65433    NaN  \n",
       "65434    NaN  \n",
       "65435    NaN  \n",
       "65436    NaN  \n",
       "\n",
       "[65437 rows x 114 columns]>"
      ]
     },
     "execution_count": 74,
     "metadata": {},
     "output_type": "execute_result"
    }
   ],
   "source": [
    "df_sof24.info"
   ]
  },
  {
   "cell_type": "code",
   "execution_count": 17,
   "id": "c09ad5bf-a052-4a71-a1e9-41801f12a42c",
   "metadata": {},
   "outputs": [
    {
     "name": "stdout",
     "output_type": "stream",
     "text": [
      "Number of respondents who completed the survey: 65437\n"
     ]
    }
   ],
   "source": [
    "# 1. How many respondents completed the survey?\n",
    "total_respondents = df_sof24['ResponseId'].nunique()\n",
    "print(f\"Number of respondents who completed the survey: {total_respondents}\")"
   ]
  },
  {
   "cell_type": "code",
   "execution_count": 13,
   "id": "2a08956d-b192-4862-b726-203992c5a006",
   "metadata": {},
   "outputs": [
    {
     "data": {
      "text/plain": [
       "65437"
      ]
     },
     "execution_count": 13,
     "metadata": {},
     "output_type": "execute_result"
    }
   ],
   "source": [
    "# 2. How many respondents answered all the questions?\n",
    "df_sof24.dropna().shape[0]\n",
    "df_sof24.shape[0]"
   ]
  },
  {
   "cell_type": "code",
   "execution_count": 20,
   "id": "0e601449-ec7f-4120-b798-961899a04a83",
   "metadata": {},
   "outputs": [
    {
     "data": {
      "text/plain": [
       "{'AIAcc',\n",
       " 'AIBen',\n",
       " 'AIChallenges',\n",
       " 'AIComplex',\n",
       " 'AIEthics',\n",
       " 'AISelect',\n",
       " 'AISent',\n",
       " 'AIThreat',\n",
       " 'Age',\n",
       " 'BuildvsBuy',\n",
       " 'BuyNewTool',\n",
       " 'Check',\n",
       " 'CodingActivities',\n",
       " 'CompTotal',\n",
       " 'Country',\n",
       " 'Currency',\n",
       " 'DevType',\n",
       " 'EdLevel',\n",
       " 'Employment',\n",
       " 'Frequency_1',\n",
       " 'Frequency_2',\n",
       " 'Frequency_3',\n",
       " 'Frustration',\n",
       " 'ICorPM',\n",
       " 'Industry',\n",
       " 'JobSat',\n",
       " 'JobSatPoints_1',\n",
       " 'JobSatPoints_10',\n",
       " 'JobSatPoints_11',\n",
       " 'JobSatPoints_4',\n",
       " 'JobSatPoints_5',\n",
       " 'JobSatPoints_6',\n",
       " 'JobSatPoints_7',\n",
       " 'JobSatPoints_8',\n",
       " 'JobSatPoints_9',\n",
       " 'Knowledge_1',\n",
       " 'Knowledge_2',\n",
       " 'Knowledge_3',\n",
       " 'Knowledge_4',\n",
       " 'Knowledge_5',\n",
       " 'Knowledge_6',\n",
       " 'Knowledge_7',\n",
       " 'Knowledge_8',\n",
       " 'Knowledge_9',\n",
       " 'LearnCode',\n",
       " 'LearnCodeOnline',\n",
       " 'MainBranch',\n",
       " 'NEWSOSites',\n",
       " 'OrgSize',\n",
       " 'ProfessionalCloud',\n",
       " 'ProfessionalQuestion',\n",
       " 'ProfessionalTech',\n",
       " 'PurchaseInfluence',\n",
       " 'RemoteWork',\n",
       " 'SOAccount',\n",
       " 'SOComm',\n",
       " 'SOHow',\n",
       " 'SOPartFreq',\n",
       " 'SOVisitFreq',\n",
       " 'SurveyEase',\n",
       " 'SurveyLength',\n",
       " 'TBranch',\n",
       " 'TechDoc',\n",
       " 'TechEndorse',\n",
       " 'TimeAnswering',\n",
       " 'TimeSearching',\n",
       " 'WorkExp',\n",
       " 'YearsCode',\n",
       " 'YearsCodePro'}"
      ]
     },
     "execution_count": 20,
     "metadata": {},
     "output_type": "execute_result"
    }
   ],
   "source": [
    "questions_set= set(df_schema24['qname']).intersection(df_sof24.columns)\n",
    "questions_set"
   ]
  },
  {
   "cell_type": "code",
   "execution_count": 21,
   "id": "e481d2d0-ee8f-4463-8943-a6fd26c941ab",
   "metadata": {},
   "outputs": [
    {
     "name": "stdout",
     "output_type": "stream",
     "text": [
      "Number of respondents who answered all questions: 6306\n"
     ]
    }
   ],
   "source": [
    "answered_all = df_sof24[list(questions_set)].dropna().shape[0]\n",
    "print(f\"Number of respondents who answered all questions: {answered_all}\")"
   ]
  },
  {
   "cell_type": "code",
   "execution_count": 14,
   "id": "d22c6cbd-09be-4a20-a5c2-110943e95e4d",
   "metadata": {},
   "outputs": [
    {
     "name": "stdout",
     "output_type": "stream",
     "text": [
      "True\n"
     ]
    }
   ],
   "source": [
    "# 3. What are the measures of central tendency for the respondents' work experience (WorkExp)?\n",
    "print('WorkExp' in df_sof24.columns)"
   ]
  },
  {
   "cell_type": "code",
   "execution_count": 63,
   "id": "a1807626-372b-4a2f-8c32-2cb7ee61706b",
   "metadata": {},
   "outputs": [
    {
     "name": "stdout",
     "output_type": "stream",
     "text": [
      "[nan 17. 15. 12. 29. 10. 18. 16.  6.  7.]\n"
     ]
    }
   ],
   "source": [
    "print(df_sof24['WorkExp'].unique()[:10])"
   ]
  },
  {
   "cell_type": "code",
   "execution_count": 22,
   "id": "4c75039b-e3e1-4f30-81af-1bddb59c65f2",
   "metadata": {},
   "outputs": [
    {
     "name": "stdout",
     "output_type": "stream",
     "text": [
      "The values of measures of central tendency for WorkExp are: mean = 11.5, median = 9.0, mode = 3.0\n"
     ]
    }
   ],
   "source": [
    "avg_exp = round(df_sof24['WorkExp'].mean(), 1)\n",
    "median_exp = round(df_sof24['WorkExp'].median(), 1)\n",
    "mode_exp = round(df_sof24['WorkExp'].mode().iloc[0], 1)\n",
    "print(f\"The values of measures of central tendency for WorkExp are: \"\n",
    "      f\"mean = {avg_exp}, median = {median_exp}, mode = {mode_exp}\")"
   ]
  },
  {
   "cell_type": "code",
   "execution_count": 15,
   "id": "ed1d2d54-64a6-40d7-822c-59746663ebae",
   "metadata": {},
   "outputs": [
    {
     "name": "stdout",
     "output_type": "stream",
     "text": [
      "RemoteWork\n",
      "Hybrid (some remote, some in-person)    23015\n",
      "Remote                                  20831\n",
      "In-person                               10960\n",
      "NaN                                     10631\n",
      "Name: count, dtype: int64\n"
     ]
    }
   ],
   "source": [
    "# 4. How many respondents work remotely?\n",
    "print(df_sof24['RemoteWork'].value_counts(dropna=False))"
   ]
  },
  {
   "cell_type": "code",
   "execution_count": 16,
   "id": "3bc30c9d-0eb6-4a8e-95dc-2d1e059cd690",
   "metadata": {},
   "outputs": [
    {
     "name": "stdout",
     "output_type": "stream",
     "text": [
      "Number of respondents who work remotely: 20831\n"
     ]
    }
   ],
   "source": [
    "remote_count = df_sof24[df_sof24['RemoteWork'].str.contains('Remote', na=False)].shape[0]\n",
    "print(\"Number of respondents who work remotely:\", remote_count)"
   ]
  },
  {
   "cell_type": "code",
   "execution_count": 23,
   "id": "3f4abd93-7d6f-4179-afac-30cdb5fed349",
   "metadata": {},
   "outputs": [
    {
     "name": "stdout",
     "output_type": "stream",
     "text": [
      "True\n"
     ]
    }
   ],
   "source": [
    "# 5. What percentage of respondents code in Python?\n",
    "print('LanguageHaveWorkedWith' in df_sof24.columns)"
   ]
  },
  {
   "cell_type": "code",
   "execution_count": 76,
   "id": "909dc0af-f42c-4b5a-91a5-cff21b5752d1",
   "metadata": {},
   "outputs": [
    {
     "name": "stdout",
     "output_type": "stream",
     "text": [
      "[nan\n",
      " 'Bash/Shell (all shells);Go;HTML/CSS;Java;JavaScript;Python;TypeScript'\n",
      " 'C#'\n",
      " 'C;C++;HTML/CSS;Java;JavaScript;PHP;PowerShell;Python;SQL;TypeScript'\n",
      " 'C++;HTML/CSS;JavaScript;Lua;Python;Rust'\n",
      " 'Bash/Shell (all shells);HTML/CSS;Java;JavaScript;Python;Rust;Swift;TypeScript'\n",
      " 'R' 'HTML/CSS;JavaScript;TypeScript' 'Lua' 'JavaScript;Python;Ruby']\n"
     ]
    }
   ],
   "source": [
    "print(df_sof24['LanguageHaveWorkedWith'].unique()[:10])"
   ]
  },
  {
   "cell_type": "code",
   "execution_count": 77,
   "id": "befc0292-11ba-4bad-9247-428fecc224ae",
   "metadata": {},
   "outputs": [
    {
     "name": "stdout",
     "output_type": "stream",
     "text": [
      "LanguageHaveWorkedWith\n",
      "NaN                                                                                                    5692\n",
      "HTML/CSS;JavaScript;TypeScript                                                                         1002\n",
      "Python                                                                                                  832\n",
      "HTML/CSS;JavaScript;PHP;SQL                                                                             503\n",
      "HTML/CSS;JavaScript                                                                                     452\n",
      "                                                                                                       ... \n",
      "Haskell;HTML/CSS;Java;JavaScript;PowerShell;Python;TypeScript;Visual Basic (.Net)                         1\n",
      "HTML/CSS;Java;Python;Scala;TypeScript                                                                     1\n",
      "C;Dart;Rust                                                                                               1\n",
      "Assembly;Bash/Shell (all shells);C;C#;C++;Dart;Go;HTML/CSS;JavaScript;Lua;PHP;Python;SQL;TypeScript       1\n",
      "Bash/Shell (all shells);C;C++;HTML/CSS;Java;JavaScript;PHP;SQL;TypeScript;VBA                             1\n",
      "Name: count, Length: 23865, dtype: int64\n"
     ]
    }
   ],
   "source": [
    "print(df_sof24['LanguageHaveWorkedWith'].value_counts(dropna=False))"
   ]
  },
  {
   "cell_type": "code",
   "execution_count": 25,
   "id": "f58ef527-88a1-4591-81a1-d53d36cd86ea",
   "metadata": {},
   "outputs": [
    {
     "name": "stdout",
     "output_type": "stream",
     "text": [
      "Python 30795\n",
      "Total 59745\n"
     ]
    },
    {
     "data": {
      "text/plain": [
       "(None, None)"
      ]
     },
     "execution_count": 25,
     "metadata": {},
     "output_type": "execute_result"
    }
   ],
   "source": [
    "python_count = df_sof24[df_sof24['LanguageHaveWorkedWith'].str.contains('Python', na=False)].shape[0]\n",
    "total_count = df_sof24['LanguageHaveWorkedWith'].notna().sum()\n",
    "print(\"Python\", python_count), print(\"Total\", total_count)"
   ]
  },
  {
   "cell_type": "code",
   "execution_count": 26,
   "id": "906f082d-b5f1-40a6-8200-4a0631c18ae2",
   "metadata": {
    "scrolled": true
   },
   "outputs": [
    {
     "name": "stdout",
     "output_type": "stream",
     "text": [
      "Number of respondents who program in Python: 51.5%\n"
     ]
    }
   ],
   "source": [
    "python_percent = (python_count/ total_count) * 100\n",
    "print(\"Number of respondents who program in Python:\", str(round(python_percent, 1)) + \"%\")"
   ]
  },
  {
   "cell_type": "code",
   "execution_count": 27,
   "id": "9502cd0d-4969-47a9-8dfe-1054bd7f2c48",
   "metadata": {},
   "outputs": [
    {
     "name": "stdout",
     "output_type": "stream",
     "text": [
      "LearnCodeOnline\n",
      "NaN                                                                                                                                                                                                16200\n",
      "Technical documentation;Blogs;Written Tutorials;Stack Overflow                                                                                                                                       603\n",
      "Technical documentation;Blogs;Books;Written Tutorials;Stack Overflow                                                                                                                                 505\n",
      "Technical documentation;Written Tutorials;Stack Overflow                                                                                                                                             384\n",
      "Technical documentation;Blogs;Books;Written Tutorials;Stack Overflow;Social Media                                                                                                                    331\n",
      "                                                                                                                                                                                                   ...  \n",
      "Blogs;Books;Written Tutorials;Stack Overflow;How-to videos;Certification videos;Online challenges (e.g., daily or weekly coding challenges);Programming Games                                          1\n",
      "Technical documentation;Blogs;Books;Coding sessions (live or recorded);Video-based Online Courses;Online challenges (e.g., daily or weekly coding challenges)                                          1\n",
      "Written Tutorials;Social Media;How-to videos;Video-based Online Courses;AI;Online challenges (e.g., daily or weekly coding challenges)                                                                 1\n",
      "Blogs;Books;Written Tutorials;Stack Overflow;Social Media;How-to videos;Interactive tutorial;Video-based Online Courses;Written-based Online Courses;Certification videos                              1\n",
      "Blogs;Books;Written Tutorials;Stack Overflow;Coding sessions (live or recorded);Social Media;How-to videos;Interactive tutorial;Written-based Online Courses;Auditory material (e.g., podcasts)        1\n",
      "Name: count, Length: 10854, dtype: int64\n"
     ]
    }
   ],
   "source": [
    "# 6. How many respondents learned to program through online courses?\n",
    "print(df_sof24['LearnCodeOnline'].value_counts(dropna=False))"
   ]
  },
  {
   "cell_type": "code",
   "execution_count": 28,
   "id": "48a4cc5f-2598-45c2-9730-4c2077431f52",
   "metadata": {},
   "outputs": [
    {
     "name": "stdout",
     "output_type": "stream",
     "text": [
      "The number of respondents who learned programming through online courses: 30549\n"
     ]
    }
   ],
   "source": [
    "online_courses_count = df_sof24[df_sof24['LearnCodeOnline'].str.contains('Online Courses', na=False)].shape[0]\n",
    "print(\"The number of respondents who learned programming through online courses:\", online_courses_count)"
   ]
  },
  {
   "cell_type": "code",
   "execution_count": 34,
   "id": "484d0cbe-fb87-47f8-8670-fd3c8667e009",
   "metadata": {},
   "outputs": [
    {
     "name": "stdout",
     "output_type": "stream",
     "text": [
      "Average and median compensation amount (ConvertedCompYearly) in each country of respondents programming in Python, grouped by country:\n",
      "\n",
      "                                  Country      mean    median\n",
      "0                             Afghanistan    4543.0    4768.5\n",
      "1                                 Albania   56295.0   56295.0\n",
      "2                                 Algeria    9053.3    6230.0\n",
      "3                                 Andorra  193331.0  193331.0\n",
      "4                                  Angola       6.0       6.0\n",
      "..                                    ...       ...       ...\n",
      "146  Venezuela, Bolivarian Republic of...   21500.0    7100.0\n",
      "147                              Viet Nam   14014.6   10180.0\n",
      "148                                 Yemen   10297.3    5333.0\n",
      "149                                Zambia   28123.7   22803.0\n",
      "150                              Zimbabwe   37500.0   18000.0\n",
      "\n",
      "[151 rows x 3 columns]\n"
     ]
    }
   ],
   "source": [
    "# 7. Among respondents who program in Python grouped by country, what is the average and median compensation amount (ConvertedCompYearly) in each country?\n",
    "python_devs = df_sof24[df_sof24['LanguageHaveWorkedWith'].str.contains('Python', na=False)]\n",
    "python_devs = python_devs.dropna(subset=['Country', 'ConvertedCompYearly'])\n",
    "python_devs['ConvertedCompYearly'] = pd.to_numeric(python_devs['ConvertedCompYearly'], errors='coerce')\n",
    "print(\"Average and median compensation amount (ConvertedCompYearly) in each country of respondents programming in Python, grouped by country:\\n\")\n",
    "result = python_devs.groupby('Country')['ConvertedCompYearly'].agg(['mean', 'median']).reset_index()\n",
    "print(result.round(1))"
   ]
  },
  {
   "cell_type": "code",
   "execution_count": 37,
   "id": "44b5e38b-3b4c-4926-8fd4-ed7f44327d70",
   "metadata": {},
   "outputs": [
    {
     "name": "stdout",
     "output_type": "stream",
     "text": [
      "5 levels of education of respondents with the highest compensation:\n",
      "       ConvertedCompYearly                                         EdLevel\n",
      "15837           16256603.0    Bachelor’s degree (B.A., B.S., B.Eng., etc.)\n",
      "12723           13818022.0  Professional degree (JD, MD, Ph.D, Ed.D, etc.)\n",
      "28379            9000000.0  Professional degree (JD, MD, Ph.D, Ed.D, etc.)\n",
      "17593            6340564.0    Bachelor’s degree (B.A., B.S., B.Eng., etc.)\n",
      "17672            4936778.0  Professional degree (JD, MD, Ph.D, Ed.D, etc.)\n"
     ]
    }
   ],
   "source": [
    "# 8. What levels of education do the 5 respondents with the highest compensation have?\n",
    "df_filtered = df_sof24.dropna(subset=['ConvertedCompYearly', 'EdLevel']).copy()\n",
    "df_filtered.loc[:, 'ConvertedCompYearly'] = pd.to_numeric(df_filtered['ConvertedCompYearly'], errors='coerce')\n",
    "df_sorted = df_filtered.sort_values(by='ConvertedCompYearly', ascending=False)\n",
    "top5 = df_sorted.head(5)\n",
    "print(\"5 levels of education of respondents with the highest compensation:\")\n",
    "print(top5[['ConvertedCompYearly', 'EdLevel']])"
   ]
  },
  {
   "cell_type": "code",
   "execution_count": 39,
   "id": "fa7475c9-d008-4176-925f-1693ad0fdebf",
   "metadata": {},
   "outputs": [
    {
     "name": "stdout",
     "output_type": "stream",
     "text": [
      "The percentage of respondents who program in Python by age category:\n",
      "Age\n",
      "18-24 years old       55.9%\n",
      "25-34 years old       45.8%\n",
      "35-44 years old       41.5%\n",
      "45-54 years old       41.9%\n",
      "55-64 years old       40.4%\n",
      "65 years or older     37.6%\n",
      "Prefer not to say     45.3%\n",
      "Under 18 years old    64.9%\n",
      "dtype: object\n"
     ]
    }
   ],
   "source": [
    "# Bonus question 1: In each age category, what percentage of respondents program in Python?\n",
    "total_by_age = df_sof24.groupby('Age').size()\n",
    "python_by_age = df_sof24[df_sof24['LanguageHaveWorkedWith'].str.contains('Python', na=False)].groupby('Age').size()\n",
    "percent_by_age = (python_by_age / total_by_age * 100).round(1).astype(str) + '%'\n",
    "print(\"The percentage of respondents who program in Python by age category:\")\n",
    "print(percent_by_age)"
   ]
  },
  {
   "cell_type": "code",
   "execution_count": 40,
   "id": "450ecc1f-ee13-400c-b756-c5b5f197f2c8",
   "metadata": {},
   "outputs": [],
   "source": [
    "# Bonus question 2: Among respondents who are in the 75th percentile for compensation and work remotely, which industries are the most common?\n",
    "percentile_75 = df_sof24['ConvertedCompYearly'].quantile(0.75)\n",
    "filtered = df_sof24[\n",
    "    (df_sof24['ConvertedCompYearly'] >= percentile_75) &\n",
    "    (df_sof24['RemoteWork'].str.contains('Remote', na=False))\n",
    "]"
   ]
  },
  {
   "cell_type": "code",
   "execution_count": 42,
   "id": "5c033ce0-2118-4302-89f6-e26bacaa1cbd",
   "metadata": {},
   "outputs": [
    {
     "name": "stdout",
     "output_type": "stream",
     "text": [
      "Industries that are most prevalent among respondents who are in the 75th percentile for average compensation and work remotely:\n",
      "Industry\n",
      "Software Development                          768\n",
      "Other:                                        239\n",
      "Healthcare                                    156\n",
      "Fintech                                       156\n",
      "Internet, Telecomm or Information Services    145\n",
      "Retail and Consumer Services                  106\n",
      "Media & Advertising Services                  103\n",
      "Computer Systems Design and Services           69\n",
      "Banking/Financial Services                     69\n",
      "Government                                     69\n",
      "Name: count, dtype: int64\n"
     ]
    }
   ],
   "source": [
    "industry_counts = filtered['Industry'].value_counts().head(10)\n",
    "print(\"Industries that are most prevalent among respondents who are in the 75th percentile for average compensation and work remotely:\")\n",
    "print(industry_counts)"
   ]
  }
 ],
 "metadata": {
  "kernelspec": {
   "display_name": "Python 3 (ipykernel)",
   "language": "python",
   "name": "python3"
  },
  "language_info": {
   "codemirror_mode": {
    "name": "ipython",
    "version": 3
   },
   "file_extension": ".py",
   "mimetype": "text/x-python",
   "name": "python",
   "nbconvert_exporter": "python",
   "pygments_lexer": "ipython3",
   "version": "3.13.5"
  }
 },
 "nbformat": 4,
 "nbformat_minor": 5
}
